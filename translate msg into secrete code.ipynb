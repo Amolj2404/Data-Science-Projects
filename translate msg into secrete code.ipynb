{
 "cells": [
  {
   "cell_type": "code",
   "execution_count": 6,
   "id": "3ba4f9c6-daeb-4f74-8566-5959f0f10565",
   "metadata": {},
   "outputs": [
    {
     "name": "stdin",
     "output_type": "stream",
     "text": [
      "enter messege amol is good\n"
     ]
    },
    {
     "ename": "IndexError",
     "evalue": "string index out of range",
     "output_type": "error",
     "traceback": [
      "\u001b[1;31m---------------------------------------------------------------------------\u001b[0m",
      "\u001b[1;31mIndexError\u001b[0m                                Traceback (most recent call last)",
      "Cell \u001b[1;32mIn[6], line 20\u001b[0m\n\u001b[0;32m     18\u001b[0m \u001b[38;5;28;01mif\u001b[39;00m (\u001b[38;5;28mlen\u001b[39m(word)\u001b[38;5;241m>\u001b[39m\u001b[38;5;241m=\u001b[39m\u001b[38;5;241m3\u001b[39m):\n\u001b[0;32m     19\u001b[0m     stnew \u001b[38;5;241m=\u001b[39m word[\u001b[38;5;241m3\u001b[39m:\u001b[38;5;241m-\u001b[39m\u001b[38;5;241m3\u001b[39m]\n\u001b[1;32m---> 20\u001b[0m     stnew \u001b[38;5;241m=\u001b[39m stnew[\u001b[38;5;241m-\u001b[39m\u001b[38;5;241m1\u001b[39m] \u001b[38;5;241m+\u001b[39m stnew[:\u001b[38;5;241m-\u001b[39m\u001b[38;5;241m1\u001b[39m]\n\u001b[0;32m     21\u001b[0m     nwords\u001b[38;5;241m.\u001b[39mappend(stnew)\n\u001b[0;32m     23\u001b[0m \u001b[38;5;28;01melse\u001b[39;00m:\n",
      "\u001b[1;31mIndexError\u001b[0m: string index out of range"
     ]
    }
   ],
   "source": [
    "st = input(\"enter messege\")\n",
    "words = st.split(\" \")\n",
    "coding = False\n",
    "if(coding):\n",
    "    nwords=[]\n",
    "    for word in words: \n",
    "     if (len(st)>=3):\n",
    "        r1='csf'\n",
    "        r2= 'dsf'\n",
    "        stnew = r1+ word[1:]+ word[0] +r2\n",
    "        nword.append(stnew)     \n",
    "     else :\n",
    "        nwords.append(word[::-1])\n",
    "    print(\" \".join(nwords))\n",
    "else:\n",
    "    nwords=[]\n",
    "    for word in words:\n",
    "        if (len(word)>=3):\n",
    "            stnew = word[3:-3]\n",
    "            stnew = stnew[-1] + stnew[:-1]\n",
    "            nwords.append(stnew)\n",
    "\n",
    "        else:\n",
    "            nwords.append(word[::-1])\n",
    "\n",
    "    print(\" \".join(nwords))\n",
    "         "
   ]
  },
  {
   "cell_type": "code",
   "execution_count": 10,
   "id": "61a23024-a0bd-40f3-8c46-e47fd5762af9",
   "metadata": {},
   "outputs": [
    {
     "name": "stdin",
     "output_type": "stream",
     "text": [
      "Enter message:  cdsbcldsnc cshcihsdvhldsav sdbvldclis\n"
     ]
    },
    {
     "name": "stdout",
     "output_type": "stream",
     "text": [
      "dbcl dcihsdvhl cvld\n"
     ]
    }
   ],
   "source": [
    "st = input(\"Enter message: \")\n",
    "words = st.split(\" \")\n",
    "coding = False\n",
    "\n",
    "if coding:\n",
    "    nwords = []  # Corrected the initialization of the list\n",
    "    for word in words:\n",
    "        if len(word) >= 3:  # Corrected condition to use `word` instead of `st`\n",
    "            r1 = 'csf'\n",
    "            r2 = 'dsf'\n",
    "            stnew = r1 + word[1:] + word[0] + r2\n",
    "            nwords.append(stnew)  # Changed `nword` to `nwords`\n",
    "        else:\n",
    "            nwords.append(word[::-1])\n",
    "    print(\" \".join(nwords))\n",
    "else:\n",
    "    nwords = []  # Corrected the initialization of the list\n",
    "    for word in words:\n",
    "        if len(word) >= 6:  # Updated condition since 'word[3:-3]' requires at least 6 characters\n",
    "            stnew = word[3:-3]  # Slice the word correctly\n",
    "            stnew = stnew[-1] + stnew[:-1]  # Rearrange the sliced string\n",
    "            nwords.append(stnew)\n",
    "        else:\n",
    "            nwords.append(word[::-1])\n",
    "    print(\" \".join(nwords))\n"
   ]
  },
  {
   "cell_type": "code",
   "execution_count": null,
   "id": "d771fdb7-604c-4d60-b07a-b123dad99256",
   "metadata": {},
   "outputs": [],
   "source": []
  }
 ],
 "metadata": {
  "kernelspec": {
   "display_name": "Python 3 (ipykernel)",
   "language": "python",
   "name": "python3"
  },
  "language_info": {
   "codemirror_mode": {
    "name": "ipython",
    "version": 3
   },
   "file_extension": ".py",
   "mimetype": "text/x-python",
   "name": "python",
   "nbconvert_exporter": "python",
   "pygments_lexer": "ipython3",
   "version": "3.11.7"
  }
 },
 "nbformat": 4,
 "nbformat_minor": 5
}
