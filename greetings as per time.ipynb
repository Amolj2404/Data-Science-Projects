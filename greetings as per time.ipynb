{
 "cells": [
  {
   "cell_type": "code",
   "execution_count": 13,
   "id": "b5428085-6739-463e-be70-d9fed707eeb5",
   "metadata": {},
   "outputs": [
    {
     "name": "stdin",
     "output_type": "stream",
     "text": [
      "enter your hours:  00.01\n"
     ]
    },
    {
     "name": "stdout",
     "output_type": "stream",
     "text": [
      "good morning sir\n"
     ]
    }
   ],
   "source": [
    "import time\n",
    "timestamp = time.strftime('%H:%M:%S')\n",
    "# print(timestamp)\n",
    "hour = int(time.strftime('%H'))\n",
    "hour = float(input('enter your hours: '))\n",
    "\n",
    "# print(hour)\n",
    "if (hour >= 0 and hour<12):\n",
    "    print('good morning sir')\n",
    "\n",
    "elif(hour >= 12 and hour<17):\n",
    "    print('good afternoon sir')\n",
    "\n",
    "elif (hour >= 12 and hour<0):\n",
    "    print('good night sir')"
   ]
  },
  {
   "cell_type": "code",
   "execution_count": null,
   "id": "4a7e9669-41c7-49c6-8826-ab9bd3b53e25",
   "metadata": {},
   "outputs": [],
   "source": []
  }
 ],
 "metadata": {
  "kernelspec": {
   "display_name": "Python 3 (ipykernel)",
   "language": "python",
   "name": "python3"
  },
  "language_info": {
   "codemirror_mode": {
    "name": "ipython",
    "version": 3
   },
   "file_extension": ".py",
   "mimetype": "text/x-python",
   "name": "python",
   "nbconvert_exporter": "python",
   "pygments_lexer": "ipython3",
   "version": "3.11.7"
  }
 },
 "nbformat": 4,
 "nbformat_minor": 5
}
