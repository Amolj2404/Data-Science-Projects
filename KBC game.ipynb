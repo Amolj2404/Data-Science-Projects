{
 "cells": [
  {
   "cell_type": "code",
   "execution_count": null,
   "id": "47d78b1e-6411-43d9-a9e8-0dfb77654e13",
   "metadata": {},
   "outputs": [],
   "source": []
  },
  {
   "cell_type": "code",
   "execution_count": null,
   "id": "791c861d-3217-42d0-a512-3a6158c7c58c",
   "metadata": {},
   "outputs": [
    {
     "name": "stdout",
     "output_type": "stream",
     "text": [
      "Question 1: What is the capital of India?\n",
      "A) Mumbai\n",
      "B) New Delhi\n",
      "C) Kolkata\n",
      "D) Chennai\n"
     ]
    }
   ],
   "source": [
    "# KBC Game\n",
    "\n",
    "questions = [\n",
    "    \"What is the capital of India?\",\n",
    "    \"Which is the largest planet in our solar system?\",\n",
    "    \"Who wrote the play 'Romeo and Juliet'?\",\n",
    "    \"Which element has the chemical symbol 'O'?\",\n",
    "    \"What is the largest mammal on Earth?\"\n",
    "]\n",
    "\n",
    "options = [\n",
    "    [\"A) Mumbai\", \"B) New Delhi\", \"C) Kolkata\", \"D) Chennai\"],\n",
    "    [\"A) Earth\", \"B) Mars\", \"C) Jupiter\", \"D) Venus\"],\n",
    "    [\"A) William Wordsworth\", \"B) William Shakespeare\", \"C) Mark Twain\", \"D) Jane Austen\"],\n",
    "    [\"A) Hydrogen\", \"B) Helium\", \"C) Oxygen\", \"D) Nitrogen\"],\n",
    "    [\"A) Elephant\", \"B) Blue Whale\", \"C) Giraffe\", \"D) Polar Bear\"]\n",
    "]\n",
    "\n",
    "correct_answers = [\"B\", \"C\", \"B\", \"C\", \"B\"]\n",
    "\n",
    "\n",
    "score = 0\n",
    "\n",
    "for i in range(len(questions)):\n",
    "    print(f\"Question {i + 1}: {questions[i]}\")\n",
    "    for option in options[i]:\n",
    "        print(option)\n",
    "    \n",
    "    answer = input(\"Enter your answer (A/B/C/D): \").upper()\n",
    "    \n",
    "    if answer == correct_answers[i]:\n",
    "        print(\"Correct!\\n\")\n",
    "        score += 1\n",
    "    else:\n",
    "        print(f\"Wrong! The correct answer was {correct_answers[i]}\\n\")\n",
    "\n",
    "print(f\"Your final score is: {score}/{len(questions)}\")\n",
    "\n",
    "if score == len(questions):\n",
    "    print(\"Congratulations! You have won the KBC game!\")\n",
    "else:\n",
    "    print(\"Better luck next time!\")\n"
   ]
  },
  {
   "cell_type": "code",
   "execution_count": null,
   "id": "685cbee5-85b2-4f61-bdc1-a7b009bd358d",
   "metadata": {},
   "outputs": [],
   "source": []
  }
 ],
 "metadata": {
  "kernelspec": {
   "display_name": "Python 3 (ipykernel)",
   "language": "python",
   "name": "python3"
  },
  "language_info": {
   "codemirror_mode": {
    "name": "ipython",
    "version": 3
   },
   "file_extension": ".py",
   "mimetype": "text/x-python",
   "name": "python",
   "nbconvert_exporter": "python",
   "pygments_lexer": "ipython3",
   "version": "3.11.7"
  }
 },
 "nbformat": 4,
 "nbformat_minor": 5
}
