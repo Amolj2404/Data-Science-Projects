{
 "cells": [
  {
   "cell_type": "code",
   "execution_count": 6,
   "id": "d2af8d96-96b8-4edc-9d40-cce2a58a5211",
   "metadata": {},
   "outputs": [
    {
     "name": "stdout",
     "output_type": "stream",
     "text": [
      "Welcome to the simple calculator!\n",
      "Choose an operation:\n",
      "1. Add\n",
      "2. Subtract\n",
      "3. Multiply\n",
      "4. Divide\n"
     ]
    },
    {
     "name": "stdin",
     "output_type": "stream",
     "text": [
      "Enter your choice (1/2/3/4):  4\n",
      "Enter the first number:  5\n",
      "Enter the second number:  6\n"
     ]
    },
    {
     "name": "stdout",
     "output_type": "stream",
     "text": [
      "Result: 0.8333333333333334\n"
     ]
    }
   ],
   "source": [
    "#basic codes\n",
    "\n",
    "# Simple Calculator\n",
    "\n",
    "# Display options to the user\n",
    "print(\"Welcome to the simple calculator!\")\n",
    "print(\"Choose an operation:\")\n",
    "print(\"1. Add\")\n",
    "print(\"2. Subtract\")\n",
    "print(\"3. Multiply\")\n",
    "print(\"4. Divide\")\n",
    "\n",
    "# Get the user's choice and numbers\n",
    "choice = input(\"Enter your choice (1/2/3/4): \")\n",
    "num1 = float(input(\"Enter the first number: \"))\n",
    "num2 = float(input(\"Enter the second number: \"))\n",
    "\n",
    "# Perform operations directly\n",
    "result = (choice == '1') * (num1 + num2) + \\\n",
    "         (choice == '2') * (num1 - num2) + \\\n",
    "         (choice == '3') * (num1 * num2) + \\\n",
    "         (choice == '4') * (num1 / num2 if num2 != 0 else \"Error: Cannot divide by zero!\")\n",
    "\n",
    "# Display the result\n",
    "print(\"Result:\", result)\n"
   ]
  },
  {
   "cell_type": "code",
   "execution_count": 1,
   "id": "9925de46-2fc8-4936-9121-be1eb38f0fd0",
   "metadata": {},
   "outputs": [
    {
     "name": "stdout",
     "output_type": "stream",
     "text": [
      "Select operation:\n",
      "1. Add\n",
      "2. Subtract\n",
      "3. Multiply\n",
      "4. Divide\n"
     ]
    },
    {
     "name": "stdin",
     "output_type": "stream",
     "text": [
      "Enter choice (1/2/3/4):  4\n",
      "Enter first number:  321651321\n",
      "Enter second number:  515212312\n"
     ]
    },
    {
     "name": "stdout",
     "output_type": "stream",
     "text": [
      "321651321.0 / 515212312.0 = 0.6243082968094908\n"
     ]
    }
   ],
   "source": [
    "def add(x, y):\n",
    "    return x + y\n",
    "\n",
    "def subtract(x, y):\n",
    "    return x - y\n",
    "\n",
    "def multiply(x, y):\n",
    "    return x * y\n",
    "\n",
    "def divide(x, y):\n",
    "    if y != 0:\n",
    "        return x / y\n",
    "    else:\n",
    "        return \"Cannot divide by zero!\"\n",
    "\n",
    "def calculator():\n",
    "    print(\"Select operation:\")\n",
    "    print(\"1. Add\")\n",
    "    print(\"2. Subtract\")\n",
    "    print(\"3. Multiply\")\n",
    "    print(\"4. Divide\")\n",
    "\n",
    "    choice = input(\"Enter choice (1/2/3/4): \")\n",
    "\n",
    "    if choice in ['1', '2', '3', '4']:\n",
    "        num1 = float(input(\"Enter first number: \"))\n",
    "        num2 = float(input(\"Enter second number: \"))\n",
    "\n",
    "        if choice == '1':\n",
    "            print(f\"{num1} + {num2} = {add(num1, num2)}\")\n",
    "\n",
    "        elif choice == '2':\n",
    "            print(f\"{num1} - {num2} = {subtract(num1, num2)}\")\n",
    "\n",
    "        elif choice == '3':\n",
    "            print(f\"{num1} * {num2} = {multiply(num1, num2)}\")\n",
    "\n",
    "        elif choice == '4':\n",
    "            print(f\"{num1} / {num2} = {divide(num1, num2)}\")\n",
    "\n",
    "    else:\n",
    "        print(\"Invalid input\")\n",
    "\n",
    "if __name__ == \"__main__\":\n",
    "    calculator()\n"
   ]
  },
  {
   "cell_type": "code",
   "execution_count": null,
   "id": "767c8ce8-a33c-4ae8-86a1-7bc1c4659523",
   "metadata": {},
   "outputs": [
    {
     "name": "stdout",
     "output_type": "stream",
     "text": [
      "\n",
      "Select operation:\n",
      "1. Add\n",
      "2. Subtract\n",
      "3. Multiply\n",
      "4. Divide\n",
      "5. Power (x^y)\n",
      "6. Modulus (x % y)\n",
      "7. Square Root\n",
      "8. Exit\n"
     ]
    },
    {
     "name": "stdin",
     "output_type": "stream",
     "text": [
      "Enter choice (1/2/3/4/5/6/7/8):  1\n",
      "Enter first number:  366\n",
      "Enter second number:  588\n"
     ]
    },
    {
     "name": "stdout",
     "output_type": "stream",
     "text": [
      "366.0 + 588.0 = 954.0\n",
      "\n",
      "Select operation:\n",
      "1. Add\n",
      "2. Subtract\n",
      "3. Multiply\n",
      "4. Divide\n",
      "5. Power (x^y)\n",
      "6. Modulus (x % y)\n",
      "7. Square Root\n",
      "8. Exit\n"
     ]
    },
    {
     "name": "stdin",
     "output_type": "stream",
     "text": [
      "Enter choice (1/2/3/4/5/6/7/8):  4\n",
      "Enter first number:  57775112\n",
      "Enter second number:  1566543213\n"
     ]
    },
    {
     "name": "stdout",
     "output_type": "stream",
     "text": [
      "57775112.0 / 1566543213.0 = 0.03688063726589328\n",
      "\n",
      "Select operation:\n",
      "1. Add\n",
      "2. Subtract\n",
      "3. Multiply\n",
      "4. Divide\n",
      "5. Power (x^y)\n",
      "6. Modulus (x % y)\n",
      "7. Square Root\n",
      "8. Exit\n"
     ]
    }
   ],
   "source": [
    "import math\n",
    "\n",
    "def add(x, y):\n",
    "    return x + y\n",
    "\n",
    "def subtract(x, y):\n",
    "    return x - y\n",
    "\n",
    "def multiply(x, y):\n",
    "    return x * y\n",
    "\n",
    "def divide(x, y):\n",
    "    if y != 0:\n",
    "        return x / y\n",
    "    else:\n",
    "        return \"Cannot divide by zero!\"\n",
    "\n",
    "def power(x, y):\n",
    "    return x ** y\n",
    "\n",
    "def modulus(x, y):\n",
    "    return x % y\n",
    "\n",
    "def sqrt(x):\n",
    "    return math.sqrt(x)\n",
    "\n",
    "def calculator():\n",
    "    while True:\n",
    "        print(\"\\nSelect operation:\")\n",
    "        print(\"1. Add\")\n",
    "        print(\"2. Subtract\")\n",
    "        print(\"3. Multiply\")\n",
    "        print(\"4. Divide\")\n",
    "        print(\"5. Power (x^y)\")\n",
    "        print(\"6. Modulus (x % y)\")\n",
    "        print(\"7. Square Root\")\n",
    "        print(\"8. Exit\")\n",
    "\n",
    "        choice = input(\"Enter choice (1/2/3/4/5/6/7/8): \")\n",
    "\n",
    "        if choice == '8':\n",
    "            print(\"Exiting the calculator. Goodbye!\")\n",
    "            break\n",
    "\n",
    "        if choice in ['1', '2', '3', '4', '5', '6']:\n",
    "            num1 = float(input(\"Enter first number: \"))\n",
    "            num2 = float(input(\"Enter second number: \"))\n",
    "\n",
    "            if choice == '1':\n",
    "                print(f\"{num1} + {num2} = {add(num1, num2)}\")\n",
    "\n",
    "            elif choice == '2':\n",
    "                print(f\"{num1} - {num2} = {subtract(num1, num2)}\")\n",
    "\n",
    "            elif choice == '3':\n",
    "                print(f\"{num1} * {num2} = {multiply(num1, num2)}\")\n",
    "\n",
    "            elif choice == '4':\n",
    "                print(f\"{num1} / {num2} = {divide(num1, num2)}\")\n",
    "\n",
    "            elif choice == '5':\n",
    "                print(f\"{num1} ^ {num2} = {power(num1, num2)}\")\n",
    "\n",
    "            elif choice == '6':\n",
    "                print(f\"{num1} % {num2} = {modulus(num1, num2)}\")\n",
    "\n",
    "        elif choice == '7':\n",
    "            num = float(input(\"Enter number: \"))\n",
    "            print(f\"Square root of {num} = {sqrt(num)}\")\n",
    "\n",
    "        else:\n",
    "            print(\"Invalid input, please choose a valid option.\")\n",
    "\n",
    "if __name__ == \"__main__\":\n",
    "    calculator()\n",
    "\n"
   ]
  },
  {
   "cell_type": "code",
   "execution_count": 7,
   "id": "f18cb357-fc13-47af-ae07-a46451b1ed68",
   "metadata": {},
   "outputs": [
    {
     "name": "stdout",
     "output_type": "stream",
     "text": [
      "Welcome to the simple calculator!\n",
      "Choose an operation:\n",
      "1. Add\n",
      "2. Subtract\n",
      "3. Multiply\n",
      "4. Divide\n"
     ]
    },
    {
     "name": "stdin",
     "output_type": "stream",
     "text": [
      "Enter your choice (1/2/3/4):  4\n",
      "Enter the first number:  2564\n",
      "Enter the second number:  12545\n"
     ]
    },
    {
     "name": "stdout",
     "output_type": "stream",
     "text": [
      "Result: 0.20438421681945\n"
     ]
    }
   ],
   "source": [
    "# Simple Calculator\n",
    "\n",
    "print(\"Welcome to the simple calculator!\")\n",
    "print(\"Choose an operation:\")\n",
    "print(\"1. Add\")\n",
    "print(\"2. Subtract\")\n",
    "print(\"3. Multiply\")\n",
    "print(\"4. Divide\")\n",
    "\n",
    "# Get user input\n",
    "choice = input(\"Enter your choice (1/2/3/4): \")\n",
    "num1 = float(input(\"Enter the first number: \"))\n",
    "num2 = float(input(\"Enter the second number: \"))\n",
    "\n",
    "# Define a dictionary for operations\n",
    "operations = {\n",
    "    '1': num1 + num2,\n",
    "    '2': num1 - num2,\n",
    "    '3': num1 * num2,\n",
    "    '4': num1 / num2 if num2 != 0 else \"Error: Cannot divide by zero!\"\n",
    "}\n",
    "\n",
    "# Get the result based on user choice\n",
    "result = operations.get(choice, \"Invalid choice\")\n",
    "\n",
    "# Display 4\n"
   ]
  },
  {
   "cell_type": "code",
   "execution_count": null,
   "id": "62ae0400-e701-490c-9d0f-03fd904b10ea",
   "metadata": {},
   "outputs": [],
   "source": [
    "print('Welcome to calculator')\n",
    "print('below is your operations will display')\n",
    "print(\"1. Add\")\n",
    "print(\"2. Subtract\")\n",
    "print(\"3. Multiply\")\n",
    "print(\"4. Divide\")\n",
    "#choice = input(\"Enter your choice (1/2/3/4): \"   ) \n",
    "num1 = float(input(\"Enter the first number: \"))\n",
    "num2 = float(input(\"Enter the second number: \"))\n",
    "result = {'1 : sum of numbers is ' : num1 + num2,\n",
    "          '2 substraction of numbers is' : num1 - num2,\n",
    "          '3 multiplication of numbers is' : num1 * num2,\n",
    "          '4 division of numbers is' : num1 / num2 if num2 != 0 else'error occured'\n",
    "         }\n",
    "print('Result' , result)"
   ]
  }
 ],
 "metadata": {
  "kernelspec": {
   "display_name": "Python 3 (ipykernel)",
   "language": "python",
   "name": "python3"
  },
  "language_info": {
   "codemirror_mode": {
    "name": "ipython",
    "version": 3
   },
   "file_extension": ".py",
   "mimetype": "text/x-python",
   "name": "python",
   "nbconvert_exporter": "python",
   "pygments_lexer": "ipython3",
   "version": "3.11.7"
  }
 },
 "nbformat": 4,
 "nbformat_minor": 5
}
